{
 "cells": [
  {
   "cell_type": "code",
   "execution_count": 101,
   "metadata": {
    "collapsed": true
   },
   "outputs": [],
   "source": [
    "# ANN\n",
    "# dataset description :-\n",
    "# fictional dataset of a bank having 10,000 customers and therefore, 10,000 rows\n",
    "# the bank is facing a high churn rate (rate at which people are leving the bank) - we need to predict which of the customers are\n",
    "# at highest risk of leaving - classification problem\n",
    "# columns correspond to diff features of the customers like gender, country, num of products, age, balance, etc\n",
    "# last column is whether the customer exited or not"
   ]
  },
  {
   "cell_type": "code",
   "execution_count": 67,
   "metadata": {
    "collapsed": true
   },
   "outputs": [],
   "source": [
    "# libraries :-\n",
    "# 1. THEANO - open source numerical computations library - v fast for numerical computations - based on numpy syntax - can run\n",
    "# CPU as well as on GPU(much more powerful)\n",
    "# 2. Tensorflow\n",
    "# 3. keras - wraps the above 2 libraries\n",
    "# 1 and 2 are used to build deep learning models from scratch(for R n D purposes)."
   ]
  },
  {
   "cell_type": "markdown",
   "metadata": {},
   "source": [
    "DATA PREPROCESSING"
   ]
  },
  {
   "cell_type": "code",
   "execution_count": 68,
   "metadata": {
    "collapsed": true
   },
   "outputs": [],
   "source": [
    "import numpy as np\n",
    "import matplotlib.pyplot as plt\n",
    "import pandas as pd"
   ]
  },
  {
   "cell_type": "code",
   "execution_count": 69,
   "metadata": {
    "collapsed": true
   },
   "outputs": [],
   "source": [
    "dataset = pd.read_csv('Churn_Modelling.csv')"
   ]
  },
  {
   "cell_type": "code",
   "execution_count": 70,
   "metadata": {},
   "outputs": [
    {
     "data": {
      "text/html": [
       "<div>\n",
       "<style>\n",
       "    .dataframe thead tr:only-child th {\n",
       "        text-align: right;\n",
       "    }\n",
       "\n",
       "    .dataframe thead th {\n",
       "        text-align: left;\n",
       "    }\n",
       "\n",
       "    .dataframe tbody tr th {\n",
       "        vertical-align: top;\n",
       "    }\n",
       "</style>\n",
       "<table border=\"1\" class=\"dataframe\">\n",
       "  <thead>\n",
       "    <tr style=\"text-align: right;\">\n",
       "      <th></th>\n",
       "      <th>RowNumber</th>\n",
       "      <th>CustomerId</th>\n",
       "      <th>Surname</th>\n",
       "      <th>CreditScore</th>\n",
       "      <th>Geography</th>\n",
       "      <th>Gender</th>\n",
       "      <th>Age</th>\n",
       "      <th>Tenure</th>\n",
       "      <th>Balance</th>\n",
       "      <th>NumOfProducts</th>\n",
       "      <th>HasCrCard</th>\n",
       "      <th>IsActiveMember</th>\n",
       "      <th>EstimatedSalary</th>\n",
       "      <th>Exited</th>\n",
       "    </tr>\n",
       "  </thead>\n",
       "  <tbody>\n",
       "    <tr>\n",
       "      <th>0</th>\n",
       "      <td>1</td>\n",
       "      <td>15634602</td>\n",
       "      <td>Hargrave</td>\n",
       "      <td>619</td>\n",
       "      <td>France</td>\n",
       "      <td>Female</td>\n",
       "      <td>42</td>\n",
       "      <td>2</td>\n",
       "      <td>0.00</td>\n",
       "      <td>1</td>\n",
       "      <td>1</td>\n",
       "      <td>1</td>\n",
       "      <td>101348.88</td>\n",
       "      <td>1</td>\n",
       "    </tr>\n",
       "    <tr>\n",
       "      <th>1</th>\n",
       "      <td>2</td>\n",
       "      <td>15647311</td>\n",
       "      <td>Hill</td>\n",
       "      <td>608</td>\n",
       "      <td>Spain</td>\n",
       "      <td>Female</td>\n",
       "      <td>41</td>\n",
       "      <td>1</td>\n",
       "      <td>83807.86</td>\n",
       "      <td>1</td>\n",
       "      <td>0</td>\n",
       "      <td>1</td>\n",
       "      <td>112542.58</td>\n",
       "      <td>0</td>\n",
       "    </tr>\n",
       "    <tr>\n",
       "      <th>2</th>\n",
       "      <td>3</td>\n",
       "      <td>15619304</td>\n",
       "      <td>Onio</td>\n",
       "      <td>502</td>\n",
       "      <td>France</td>\n",
       "      <td>Female</td>\n",
       "      <td>42</td>\n",
       "      <td>8</td>\n",
       "      <td>159660.80</td>\n",
       "      <td>3</td>\n",
       "      <td>1</td>\n",
       "      <td>0</td>\n",
       "      <td>113931.57</td>\n",
       "      <td>1</td>\n",
       "    </tr>\n",
       "    <tr>\n",
       "      <th>3</th>\n",
       "      <td>4</td>\n",
       "      <td>15701354</td>\n",
       "      <td>Boni</td>\n",
       "      <td>699</td>\n",
       "      <td>France</td>\n",
       "      <td>Female</td>\n",
       "      <td>39</td>\n",
       "      <td>1</td>\n",
       "      <td>0.00</td>\n",
       "      <td>2</td>\n",
       "      <td>0</td>\n",
       "      <td>0</td>\n",
       "      <td>93826.63</td>\n",
       "      <td>0</td>\n",
       "    </tr>\n",
       "    <tr>\n",
       "      <th>4</th>\n",
       "      <td>5</td>\n",
       "      <td>15737888</td>\n",
       "      <td>Mitchell</td>\n",
       "      <td>850</td>\n",
       "      <td>Spain</td>\n",
       "      <td>Female</td>\n",
       "      <td>43</td>\n",
       "      <td>2</td>\n",
       "      <td>125510.82</td>\n",
       "      <td>1</td>\n",
       "      <td>1</td>\n",
       "      <td>1</td>\n",
       "      <td>79084.10</td>\n",
       "      <td>0</td>\n",
       "    </tr>\n",
       "  </tbody>\n",
       "</table>\n",
       "</div>"
      ],
      "text/plain": [
       "   RowNumber  CustomerId   Surname  CreditScore Geography  Gender  Age  \\\n",
       "0          1    15634602  Hargrave          619    France  Female   42   \n",
       "1          2    15647311      Hill          608     Spain  Female   41   \n",
       "2          3    15619304      Onio          502    France  Female   42   \n",
       "3          4    15701354      Boni          699    France  Female   39   \n",
       "4          5    15737888  Mitchell          850     Spain  Female   43   \n",
       "\n",
       "   Tenure    Balance  NumOfProducts  HasCrCard  IsActiveMember  \\\n",
       "0       2       0.00              1          1               1   \n",
       "1       1   83807.86              1          0               1   \n",
       "2       8  159660.80              3          1               0   \n",
       "3       1       0.00              2          0               0   \n",
       "4       2  125510.82              1          1               1   \n",
       "\n",
       "   EstimatedSalary  Exited  \n",
       "0        101348.88       1  \n",
       "1        112542.58       0  \n",
       "2        113931.57       1  \n",
       "3         93826.63       0  \n",
       "4         79084.10       0  "
      ]
     },
     "execution_count": 70,
     "metadata": {},
     "output_type": "execute_result"
    }
   ],
   "source": [
    "dataset.head()"
   ]
  },
  {
   "cell_type": "code",
   "execution_count": 71,
   "metadata": {},
   "outputs": [
    {
     "data": {
      "text/plain": [
       "((10000, 10), (10000,))"
      ]
     },
     "execution_count": 71,
     "metadata": {},
     "output_type": "execute_result"
    }
   ],
   "source": [
    "X = dataset.iloc[:, 3:13].values # rowNumber, customerId and surname play NO role in churn rate \n",
    "y = dataset.iloc[:, 13].values\n",
    "X.shape, y.shape"
   ]
  },
  {
   "cell_type": "code",
   "execution_count": 72,
   "metadata": {},
   "outputs": [
    {
     "data": {
      "text/plain": [
       "array([619, 'France', 'Female', 42, 2, 0.0, 1, 1, 1, 101348.88],\n",
       "      dtype=object)"
      ]
     },
     "execution_count": 72,
     "metadata": {},
     "output_type": "execute_result"
    }
   ],
   "source": [
    "X[0]"
   ]
  },
  {
   "cell_type": "code",
   "execution_count": 73,
   "metadata": {},
   "outputs": [
    {
     "data": {
      "text/plain": [
       "array([1, 0, 1, ..., 1, 1, 0], dtype=int64)"
      ]
     },
     "execution_count": 73,
     "metadata": {},
     "output_type": "execute_result"
    }
   ],
   "source": [
    "y"
   ]
  },
  {
   "cell_type": "code",
   "execution_count": 74,
   "metadata": {},
   "outputs": [
    {
     "data": {
      "text/plain": [
       "1"
      ]
     },
     "execution_count": 74,
     "metadata": {},
     "output_type": "execute_result"
    }
   ],
   "source": [
    "y[0] # y contains values 0 or 1"
   ]
  },
  {
   "cell_type": "code",
   "execution_count": 75,
   "metadata": {
    "collapsed": true
   },
   "outputs": [],
   "source": [
    "# encode categorical variables (country and gender) before splitting the data "
   ]
  },
  {
   "cell_type": "code",
   "execution_count": 76,
   "metadata": {
    "collapsed": true
   },
   "outputs": [],
   "source": [
    "from sklearn.preprocessing import LabelEncoder, OneHotEncoder\n",
    "\n",
    "#encode country\n",
    "encoder1 = LabelEncoder()\n",
    "X[:,1] = encoder1.fit_transform(X[:,1])\n",
    "\n",
    "# encode gender - we'll not onehot encode this cz it only has 2 categories - since we'll be removing one of the columns to avoid \n",
    "# dummy variable trap, it'll be no use to one hot encode this\n",
    "encoder2 = LabelEncoder()\n",
    "X[:,2] = encoder2.fit_transform(X[:,2])"
   ]
  },
  {
   "cell_type": "code",
   "execution_count": 123,
   "metadata": {},
   "outputs": [
    {
     "data": {
      "text/plain": [
       "array([0.0000000e+00, 1.0000000e+00, 0.0000000e+00, 6.0800000e+02,\n",
       "       0.0000000e+00, 4.1000000e+01, 1.0000000e+00, 8.3807860e+04,\n",
       "       1.0000000e+00, 0.0000000e+00, 1.0000000e+00, 1.1254258e+05])"
      ]
     },
     "execution_count": 123,
     "metadata": {},
     "output_type": "execute_result"
    }
   ],
   "source": [
    "# one hot encode country\n",
    "ohe = OneHotEncoder(categorical_features = [1])\n",
    "X = ohe.fit_transform(X).toarray()\n",
    "X[0], X[0].shape"
   ]
  },
  {
   "cell_type": "code",
   "execution_count": 78,
   "metadata": {},
   "outputs": [
    {
     "data": {
      "text/plain": [
       "(array([0.0000000e+00, 0.0000000e+00, 6.1900000e+02, 0.0000000e+00,\n",
       "        4.2000000e+01, 2.0000000e+00, 0.0000000e+00, 1.0000000e+00,\n",
       "        1.0000000e+00, 1.0000000e+00, 1.0134888e+05]), (11,))"
      ]
     },
     "execution_count": 78,
     "metadata": {},
     "output_type": "execute_result"
    }
   ],
   "source": [
    "# remove dummy variable we get after ohe\n",
    "X = X[:,1:] # will remove 1st column\n",
    "X[0], X[0].shape"
   ]
  },
  {
   "cell_type": "code",
   "execution_count": 79,
   "metadata": {},
   "outputs": [
    {
     "data": {
      "text/plain": [
       "((10000, 11), (10000,))"
      ]
     },
     "execution_count": 79,
     "metadata": {},
     "output_type": "execute_result"
    }
   ],
   "source": [
    "X.shape, y.shape"
   ]
  },
  {
   "cell_type": "code",
   "execution_count": 80,
   "metadata": {
    "collapsed": true
   },
   "outputs": [],
   "source": [
    "from sklearn.model_selection import train_test_split\n",
    "X_train,X_test,y_train,y_test = train_test_split(X, y, test_size = 0.2, random_state = 0)"
   ]
  },
  {
   "cell_type": "code",
   "execution_count": 81,
   "metadata": {},
   "outputs": [
    {
     "data": {
      "text/plain": [
       "((8000, 11), (8000,))"
      ]
     },
     "execution_count": 81,
     "metadata": {},
     "output_type": "execute_result"
    }
   ],
   "source": [
    "X_train.shape, y_train.shape"
   ]
  },
  {
   "cell_type": "code",
   "execution_count": 82,
   "metadata": {},
   "outputs": [
    {
     "data": {
      "text/plain": [
       "((2000, 11), (2000,))"
      ]
     },
     "execution_count": 82,
     "metadata": {},
     "output_type": "execute_result"
    }
   ],
   "source": [
    "X_test.shape, y_test.shape"
   ]
  },
  {
   "cell_type": "code",
   "execution_count": 83,
   "metadata": {
    "collapsed": true
   },
   "outputs": [],
   "source": [
    "# do feature scaling - highly recommended in neural networks - we dont want to have one independent var dominating another one\n",
    "from sklearn.preprocessing import StandardScaler\n",
    "sc = StandardScaler()\n",
    "X_train = sc.fit_transform(X_train)\n",
    "X_test = sc.transform(X_test)"
   ]
  },
  {
   "cell_type": "code",
   "execution_count": 86,
   "metadata": {},
   "outputs": [
    {
     "data": {
      "text/plain": [
       "array([-0.5698444 ,  1.74309049,  0.16958176, -1.09168714, -0.46460796,\n",
       "        0.00666099, -1.21571749,  0.8095029 ,  0.64259497, -1.03227043,\n",
       "        1.10643166])"
      ]
     },
     "execution_count": 86,
     "metadata": {},
     "output_type": "execute_result"
    }
   ],
   "source": [
    "X_train[0]"
   ]
  },
  {
   "cell_type": "code",
   "execution_count": 87,
   "metadata": {},
   "outputs": [
    {
     "data": {
      "text/plain": [
       "array([ 1.75486502, -0.57369368, -0.55204276, -1.09168714, -0.36890377,\n",
       "        1.04473698,  0.8793029 , -0.92159124,  0.64259497,  0.9687384 ,\n",
       "        1.61085707])"
      ]
     },
     "execution_count": 87,
     "metadata": {},
     "output_type": "execute_result"
    }
   ],
   "source": [
    "X_test[0]"
   ]
  },
  {
   "cell_type": "markdown",
   "metadata": {},
   "source": [
    "BUILDING THE ANN MODEL"
   ]
  },
  {
   "cell_type": "code",
   "execution_count": 96,
   "metadata": {
    "collapsed": true
   },
   "outputs": [],
   "source": [
    "import keras\n",
    "from keras.models import Sequential \n",
    "from keras.layers import Dense"
   ]
  },
  {
   "cell_type": "code",
   "execution_count": 97,
   "metadata": {
    "collapsed": true
   },
   "outputs": [],
   "source": [
    "classifier = Sequential() # initialising the model"
   ]
  },
  {
   "cell_type": "code",
   "execution_count": 98,
   "metadata": {
    "collapsed": true
   },
   "outputs": [],
   "source": [
    "# add input layer and first hidden layer\n",
    "# TIP : try taking no of node in the hidden layer as average of the no of nodes in the input layer and that in the output layer\n",
    "# or can do parameter tuning , cross validation\n",
    "# no of nodes in input layer = 11 ( X has 11 features)\n",
    "# no of nodes in output layer = 1 ( coresponding to y value)\n",
    "# we're choosing 6 for no of nodes in hidden layer ( average of 11 and 1)\n",
    "classifier.add(Dense(units = 6, kernel_initializer='uniform', activation = 'relu', input_dim = 11)) \n",
    "# input_dim is coompulsory only for the first (input) layer"
   ]
  },
  {
   "cell_type": "code",
   "execution_count": 99,
   "metadata": {
    "collapsed": true
   },
   "outputs": [],
   "source": [
    "# add second hidden layer\n",
    "classifier.add(Dense(units = 6, kernel_initializer='uniform', activation = 'relu')) "
   ]
  },
  {
   "cell_type": "code",
   "execution_count": 100,
   "metadata": {
    "collapsed": true
   },
   "outputs": [],
   "source": [
    "# add output layer\n",
    "classifier.add(Dense(units = 1, kernel_initializer='uniform', activation = 'sigmoid'))\n",
    "# use sigmoid in output layer \n",
    "# if we had more than 2 categories, we would have used softmax fn - similar to sigmoid but for multiple categories"
   ]
  },
  {
   "cell_type": "code",
   "execution_count": 102,
   "metadata": {
    "collapsed": true
   },
   "outputs": [],
   "source": [
    "# compile the ann\n",
    "classifier.compile(optimizer='adam', loss='binary_crossentropy', metrics=['accuracy'])\n",
    "# optimizer - the algo we want to use to find the optimal set of weights in the nn - adam optimizer is a v efficient type\n",
    "# of stochastoc grad optimization\n",
    "# loss - the loss function used within the sgd adam algo \n",
    "# binary_crossentropy - used with binary classification\n",
    "# categorical_crossentropy - used with multiclass classification\n",
    "# metrics - metrics used by algo after every iteration to improve performance"
   ]
  },
  {
   "cell_type": "code",
   "execution_count": 104,
   "metadata": {},
   "outputs": [
    {
     "name": "stderr",
     "output_type": "stream",
     "text": [
      "C:\\ANACONDA\\lib\\site-packages\\ipykernel_launcher.py:3: UserWarning: The `nb_epoch` argument in `fit` has been renamed `epochs`.\n",
      "  This is separate from the ipykernel package so we can avoid doing imports until\n"
     ]
    },
    {
     "name": "stdout",
     "output_type": "stream",
     "text": [
      "Epoch 1/100\n",
      "8000/8000 [==============================] - 5s 642us/step - loss: 0.4925 - acc: 0.7955\n",
      "Epoch 2/100\n",
      "8000/8000 [==============================] - 1s 144us/step - loss: 0.4288 - acc: 0.7960\n",
      "Epoch 3/100\n",
      "8000/8000 [==============================] - 1s 146us/step - loss: 0.4233 - acc: 0.7960\n",
      "Epoch 4/100\n",
      "8000/8000 [==============================] - 1s 154us/step - loss: 0.4189 - acc: 0.8112\n",
      "Epoch 5/100\n",
      "8000/8000 [==============================] - 1s 149us/step - loss: 0.4166 - acc: 0.8252\n",
      "Epoch 6/100\n",
      "8000/8000 [==============================] - 1s 147us/step - loss: 0.4151 - acc: 0.8262\n",
      "Epoch 7/100\n",
      "8000/8000 [==============================] - 1s 152us/step - loss: 0.4129 - acc: 0.8304\n",
      "Epoch 8/100\n",
      "8000/8000 [==============================] - 1s 154us/step - loss: 0.4123 - acc: 0.8317\n",
      "Epoch 9/100\n",
      "8000/8000 [==============================] - 1s 157us/step - loss: 0.4110 - acc: 0.8324\n",
      "Epoch 10/100\n",
      "8000/8000 [==============================] - 1s 154us/step - loss: 0.4097 - acc: 0.8331\n",
      "Epoch 11/100\n",
      "8000/8000 [==============================] - 1s 155us/step - loss: 0.4094 - acc: 0.8342\n",
      "Epoch 12/100\n",
      "8000/8000 [==============================] - 1s 152us/step - loss: 0.4083 - acc: 0.8325\n",
      "Epoch 13/100\n",
      "8000/8000 [==============================] - 1s 150us/step - loss: 0.4083 - acc: 0.8352\n",
      "Epoch 14/100\n",
      "8000/8000 [==============================] - 1s 146us/step - loss: 0.4078 - acc: 0.8349\n",
      "Epoch 15/100\n",
      "8000/8000 [==============================] - 1s 154us/step - loss: 0.4066 - acc: 0.8340\n",
      "Epoch 16/100\n",
      "8000/8000 [==============================] - 1s 182us/step - loss: 0.4058 - acc: 0.8362\n",
      "Epoch 17/100\n",
      "8000/8000 [==============================] - 1s 170us/step - loss: 0.4060 - acc: 0.8357\n",
      "Epoch 18/100\n",
      "8000/8000 [==============================] - 1s 144us/step - loss: 0.4056 - acc: 0.8349\n",
      "Epoch 19/100\n",
      "8000/8000 [==============================] - 1s 168us/step - loss: 0.4051 - acc: 0.8349\n",
      "Epoch 20/100\n",
      "8000/8000 [==============================] - 1s 177us/step - loss: 0.4048 - acc: 0.8361\n",
      "Epoch 21/100\n",
      "8000/8000 [==============================] - 1s 158us/step - loss: 0.4041 - acc: 0.8351\n",
      "Epoch 22/100\n",
      "8000/8000 [==============================] - 1s 162us/step - loss: 0.4042 - acc: 0.8355\n",
      "Epoch 23/100\n",
      "8000/8000 [==============================] - 1s 159us/step - loss: 0.4040 - acc: 0.8351\n",
      "Epoch 24/100\n",
      "8000/8000 [==============================] - 1s 173us/step - loss: 0.4040 - acc: 0.8350\n",
      "Epoch 25/100\n",
      "8000/8000 [==============================] - 1s 154us/step - loss: 0.4037 - acc: 0.8354\n",
      "Epoch 26/100\n",
      "8000/8000 [==============================] - 1s 157us/step - loss: 0.4032 - acc: 0.8356\n",
      "Epoch 27/100\n",
      "8000/8000 [==============================] - 1s 156us/step - loss: 0.4028 - acc: 0.8342\n",
      "Epoch 28/100\n",
      "8000/8000 [==============================] - 1s 151us/step - loss: 0.4028 - acc: 0.8360\n",
      "Epoch 29/100\n",
      "8000/8000 [==============================] - 1s 154us/step - loss: 0.4026 - acc: 0.8366\n",
      "Epoch 30/100\n",
      "8000/8000 [==============================] - 1s 174us/step - loss: 0.4024 - acc: 0.8356\n",
      "Epoch 31/100\n",
      "8000/8000 [==============================] - 1s 161us/step - loss: 0.4022 - acc: 0.8351\n",
      "Epoch 32/100\n",
      "8000/8000 [==============================] - 1s 150us/step - loss: 0.4022 - acc: 0.8340\n",
      "Epoch 33/100\n",
      "8000/8000 [==============================] - 1s 150us/step - loss: 0.4018 - acc: 0.8342\n",
      "Epoch 34/100\n",
      "8000/8000 [==============================] - 1s 155us/step - loss: 0.4017 - acc: 0.8352\n",
      "Epoch 35/100\n",
      "8000/8000 [==============================] - 1s 148us/step - loss: 0.4017 - acc: 0.8367\n",
      "Epoch 36/100\n",
      "8000/8000 [==============================] - 1s 146us/step - loss: 0.4014 - acc: 0.8361\n",
      "Epoch 37/100\n",
      "8000/8000 [==============================] - 1s 148us/step - loss: 0.4008 - acc: 0.8321\n",
      "Epoch 38/100\n",
      "8000/8000 [==============================] - 1s 143us/step - loss: 0.4010 - acc: 0.8352\n",
      "Epoch 39/100\n",
      "8000/8000 [==============================] - 1s 154us/step - loss: 0.4006 - acc: 0.8359\n",
      "Epoch 40/100\n",
      "8000/8000 [==============================] - 1s 174us/step - loss: 0.4012 - acc: 0.8356\n",
      "Epoch 41/100\n",
      "8000/8000 [==============================] - 1s 162us/step - loss: 0.4009 - acc: 0.8352\n",
      "Epoch 42/100\n",
      "8000/8000 [==============================] - 1s 145us/step - loss: 0.4008 - acc: 0.8346\n",
      "Epoch 43/100\n",
      "8000/8000 [==============================] - 1s 145us/step - loss: 0.4006 - acc: 0.8361\n",
      "Epoch 44/100\n",
      "8000/8000 [==============================] - 1s 155us/step - loss: 0.4010 - acc: 0.8356\n",
      "Epoch 45/100\n",
      "8000/8000 [==============================] - 1s 150us/step - loss: 0.4004 - acc: 0.8360\n",
      "Epoch 46/100\n",
      "8000/8000 [==============================] - 1s 148us/step - loss: 0.4003 - acc: 0.8367\n",
      "Epoch 47/100\n",
      "8000/8000 [==============================] - 1s 149us/step - loss: 0.4003 - acc: 0.8362\n",
      "Epoch 48/100\n",
      "8000/8000 [==============================] - 1s 152us/step - loss: 0.4006 - acc: 0.8352\n",
      "Epoch 49/100\n",
      "8000/8000 [==============================] - 1s 149us/step - loss: 0.4001 - acc: 0.8366\n",
      "Epoch 50/100\n",
      "8000/8000 [==============================] - 1s 154us/step - loss: 0.3999 - acc: 0.8369\n",
      "Epoch 51/100\n",
      "8000/8000 [==============================] - 1s 147us/step - loss: 0.3999 - acc: 0.8339\n",
      "Epoch 52/100\n",
      "8000/8000 [==============================] - 1s 149us/step - loss: 0.4001 - acc: 0.8375\n",
      "Epoch 53/100\n",
      "8000/8000 [==============================] - 1s 148us/step - loss: 0.4000 - acc: 0.8366\n",
      "Epoch 54/100\n",
      "8000/8000 [==============================] - 1s 154us/step - loss: 0.3997 - acc: 0.8372\n",
      "Epoch 55/100\n",
      "8000/8000 [==============================] - 1s 149us/step - loss: 0.4003 - acc: 0.8361\n",
      "Epoch 56/100\n",
      "8000/8000 [==============================] - 1s 148us/step - loss: 0.4000 - acc: 0.8370\n",
      "Epoch 57/100\n",
      "8000/8000 [==============================] - 1s 151us/step - loss: 0.4000 - acc: 0.8364\n",
      "Epoch 58/100\n",
      "8000/8000 [==============================] - 1s 150us/step - loss: 0.4000 - acc: 0.8357\n",
      "Epoch 59/100\n",
      "8000/8000 [==============================] - 1s 150us/step - loss: 0.3998 - acc: 0.8346 1s - los\n",
      "Epoch 60/100\n",
      "8000/8000 [==============================] - 1s 144us/step - loss: 0.3995 - acc: 0.8359\n",
      "Epoch 61/100\n",
      "8000/8000 [==============================] - 1s 146us/step - loss: 0.3996 - acc: 0.8359\n",
      "Epoch 62/100\n",
      "8000/8000 [==============================] - 1s 145us/step - loss: 0.3996 - acc: 0.8364 0s - loss: 0.3946 - acc: 0.8\n",
      "Epoch 63/100\n",
      "8000/8000 [==============================] - 1s 149us/step - loss: 0.3996 - acc: 0.8370\n",
      "Epoch 64/100\n",
      "8000/8000 [==============================] - 1s 159us/step - loss: 0.3998 - acc: 0.8357\n",
      "Epoch 65/100\n",
      "8000/8000 [==============================] - 2s 189us/step - loss: 0.3998 - acc: 0.8360\n",
      "Epoch 66/100\n",
      "8000/8000 [==============================] - 1s 145us/step - loss: 0.3997 - acc: 0.8350\n",
      "Epoch 67/100\n",
      "8000/8000 [==============================] - 1s 147us/step - loss: 0.3995 - acc: 0.8345\n",
      "Epoch 68/100\n",
      "8000/8000 [==============================] - 2s 197us/step - loss: 0.3993 - acc: 0.8367\n",
      "Epoch 69/100\n",
      "8000/8000 [==============================] - 1s 159us/step - loss: 0.3996 - acc: 0.8362\n",
      "Epoch 70/100\n",
      "8000/8000 [==============================] - 1s 155us/step - loss: 0.3998 - acc: 0.8360\n",
      "Epoch 71/100\n",
      "8000/8000 [==============================] - 1s 156us/step - loss: 0.3993 - acc: 0.8351\n",
      "Epoch 72/100\n",
      "8000/8000 [==============================] - 1s 164us/step - loss: 0.3995 - acc: 0.8354\n",
      "Epoch 73/100\n",
      "8000/8000 [==============================] - 1s 174us/step - loss: 0.3990 - acc: 0.8362\n",
      "Epoch 74/100\n",
      "8000/8000 [==============================] - 1s 149us/step - loss: 0.3995 - acc: 0.8370\n",
      "Epoch 75/100\n",
      "8000/8000 [==============================] - 1s 145us/step - loss: 0.3993 - acc: 0.8367\n",
      "Epoch 76/100\n",
      "8000/8000 [==============================] - 1s 145us/step - loss: 0.3991 - acc: 0.8369\n",
      "Epoch 77/100\n",
      "8000/8000 [==============================] - 1s 148us/step - loss: 0.3991 - acc: 0.8350\n",
      "Epoch 78/100\n",
      "8000/8000 [==============================] - 1s 148us/step - loss: 0.3992 - acc: 0.8379\n",
      "Epoch 79/100\n",
      "8000/8000 [==============================] - 1s 152us/step - loss: 0.3990 - acc: 0.8350\n",
      "Epoch 80/100\n",
      "8000/8000 [==============================] - 1s 146us/step - loss: 0.3988 - acc: 0.8365 0s - loss: 0.4\n",
      "Epoch 81/100\n",
      "8000/8000 [==============================] - 1s 154us/step - loss: 0.3996 - acc: 0.8364\n",
      "Epoch 82/100\n",
      "8000/8000 [==============================] - 1s 148us/step - loss: 0.3989 - acc: 0.8365\n",
      "Epoch 83/100\n",
      "8000/8000 [==============================] - 1s 151us/step - loss: 0.3991 - acc: 0.8366\n",
      "Epoch 84/100\n",
      "8000/8000 [==============================] - 1s 150us/step - loss: 0.3989 - acc: 0.8374\n",
      "Epoch 85/100\n",
      "8000/8000 [==============================] - 1s 150us/step - loss: 0.3996 - acc: 0.8375\n",
      "Epoch 86/100\n",
      "8000/8000 [==============================] - 1s 154us/step - loss: 0.3986 - acc: 0.8357\n",
      "Epoch 87/100\n",
      "8000/8000 [==============================] - 1s 149us/step - loss: 0.3992 - acc: 0.8365\n",
      "Epoch 88/100\n",
      "8000/8000 [==============================] - 1s 164us/step - loss: 0.3992 - acc: 0.8362\n",
      "Epoch 89/100\n",
      "8000/8000 [==============================] - 2s 197us/step - loss: 0.3992 - acc: 0.8351\n",
      "Epoch 90/100\n",
      "8000/8000 [==============================] - 1s 155us/step - loss: 0.3990 - acc: 0.8372\n",
      "Epoch 91/100\n",
      "8000/8000 [==============================] - 1s 167us/step - loss: 0.3990 - acc: 0.8365\n",
      "Epoch 92/100\n",
      "8000/8000 [==============================] - 1s 152us/step - loss: 0.3990 - acc: 0.8376\n",
      "Epoch 93/100\n",
      "8000/8000 [==============================] - 1s 152us/step - loss: 0.3988 - acc: 0.8361\n",
      "Epoch 94/100\n",
      "8000/8000 [==============================] - 1s 149us/step - loss: 0.3989 - acc: 0.8374\n",
      "Epoch 95/100\n",
      "8000/8000 [==============================] - 1s 152us/step - loss: 0.3989 - acc: 0.8375\n",
      "Epoch 96/100\n",
      "8000/8000 [==============================] - 1s 148us/step - loss: 0.3991 - acc: 0.8350\n",
      "Epoch 97/100\n",
      "8000/8000 [==============================] - 1s 151us/step - loss: 0.3993 - acc: 0.8367\n",
      "Epoch 98/100\n",
      "8000/8000 [==============================] - 1s 149us/step - loss: 0.3990 - acc: 0.8357\n",
      "Epoch 99/100\n",
      "8000/8000 [==============================] - 1s 139us/step - loss: 0.3987 - acc: 0.8376\n",
      "Epoch 100/100\n",
      "8000/8000 [==============================] - 1s 144us/step - loss: 0.3991 - acc: 0.8354\n"
     ]
    },
    {
     "data": {
      "text/plain": [
       "<keras.callbacks.History at 0x1b87c6c1470>"
      ]
     },
     "execution_count": 104,
     "metadata": {},
     "output_type": "execute_result"
    }
   ],
   "source": [
    "# we havent made any connection between the model and our data yet\n",
    "# fitting the ann to the training set\n",
    "classifier.fit(X_train, y_train, batch_size = 10, epoch = 100)"
   ]
  },
  {
   "cell_type": "code",
   "execution_count": 106,
   "metadata": {
    "collapsed": true
   },
   "outputs": [],
   "source": [
    "# accuracy converging at about 83.6%"
   ]
  },
  {
   "cell_type": "markdown",
   "metadata": {},
   "source": [
    "MAKING PREDICTIONS AND EVALUATING THE MODEL"
   ]
  },
  {
   "cell_type": "code",
   "execution_count": 107,
   "metadata": {
    "collapsed": true
   },
   "outputs": [],
   "source": [
    "y_pred = classifier.predict(X_test)"
   ]
  },
  {
   "cell_type": "code",
   "execution_count": 109,
   "metadata": {},
   "outputs": [
    {
     "data": {
      "text/plain": [
       "array([[0.20845954],\n",
       "       [0.31870234],\n",
       "       [0.16355684],\n",
       "       ...,\n",
       "       [0.16943139],\n",
       "       [0.14612108],\n",
       "       [0.10946299]], dtype=float32)"
      ]
     },
     "execution_count": 109,
     "metadata": {},
     "output_type": "execute_result"
    }
   ],
   "source": [
    "y_pred # gives probabilities that a customer will leave the bank"
   ]
  },
  {
   "cell_type": "code",
   "execution_count": 116,
   "metadata": {},
   "outputs": [
    {
     "data": {
      "text/plain": [
       "(array([[False],\n",
       "        [False],\n",
       "        [False],\n",
       "        ...,\n",
       "        [False],\n",
       "        [False],\n",
       "        [False]]), (2000, 1))"
      ]
     },
     "execution_count": 116,
     "metadata": {},
     "output_type": "execute_result"
    }
   ],
   "source": [
    "# convert y_pred in the form true/false\n",
    "y_pred = (y_pred > 0.5) # return true if y_pred > 0.5\n",
    "y_pred, y_pred.shape"
   ]
  },
  {
   "cell_type": "code",
   "execution_count": 115,
   "metadata": {},
   "outputs": [
    {
     "data": {
      "text/plain": [
       "array([[1544,   51],\n",
       "       [ 259,  146]], dtype=int64)"
      ]
     },
     "execution_count": 115,
     "metadata": {},
     "output_type": "execute_result"
    }
   ],
   "source": [
    "# make the confusion matrix\n",
    "from sklearn.metrics import confusion_matrix\n",
    "cm = confusion_matrix(y_test, y_pred)\n",
    "cm"
   ]
  },
  {
   "cell_type": "code",
   "execution_count": 117,
   "metadata": {},
   "outputs": [
    {
     "data": {
      "text/plain": [
       "0.845"
      ]
     },
     "execution_count": 117,
     "metadata": {},
     "output_type": "execute_result"
    }
   ],
   "source": [
    "# out of 2000 observations, we get 1544+146 correct predictions and 51+259 wrong predictions\n",
    "# accuracy = (no of correct preds)/(no of total preds)\n",
    "accuracy = (1544+146)/2000\n",
    "accuracy # on test set"
   ]
  },
  {
   "cell_type": "code",
   "execution_count": 118,
   "metadata": {
    "collapsed": true
   },
   "outputs": [],
   "source": [
    "# results\n",
    "# training set accuracy = ~86%\n",
    "# test set accuracy = ~84%"
   ]
  },
  {
   "cell_type": "markdown",
   "metadata": {},
   "source": [
    "PREDICTING RESULTS FOR NEW TEST POINT"
   ]
  },
  {
   "cell_type": "raw",
   "metadata": {},
   "source": [
    "# Predicting a single new observation\n",
    "Predict if the customer with the following informations will leave the bank:\n",
    "Geography: France\n",
    "Credit Score: 600\n",
    "Gender: Male\n",
    "Age: 40\n",
    "Tenure: 3\n",
    "Balance: 60000\n",
    "Number of Products: 2\n",
    "Has Credit Card: Yes\n",
    "Is Active Member: Yes\n",
    "Estimated Salary: 50000"
   ]
  },
  {
   "cell_type": "code",
   "execution_count": 129,
   "metadata": {},
   "outputs": [
    {
     "name": "stderr",
     "output_type": "stream",
     "text": [
      "C:\\ANACONDA\\lib\\site-packages\\sklearn\\utils\\validation.py:475: DataConversionWarning: Data with input dtype int32 was converted to float64 by StandardScaler.\n",
      "  warnings.warn(msg, DataConversionWarning)\n"
     ]
    }
   ],
   "source": [
    "new_test_point = np.array([[0,0,600,1,40,3,60000,2,1,1,50000]])\n",
    "new_test_point = sc.transform(new_test_point) # scaling\n",
    "#new_test_point = new_test_point.reshape(-1,1)\n",
    "new_pred = classifier.predict(new_test_point)"
   ]
  },
  {
   "cell_type": "code",
   "execution_count": 130,
   "metadata": {},
   "outputs": [
    {
     "data": {
      "text/plain": [
       "array([[0.07640162]], dtype=float32)"
      ]
     },
     "execution_count": 130,
     "metadata": {},
     "output_type": "execute_result"
    }
   ],
   "source": [
    "new_pred"
   ]
  },
  {
   "cell_type": "code",
   "execution_count": 132,
   "metadata": {},
   "outputs": [
    {
     "data": {
      "text/plain": [
       "array([[False]])"
      ]
     },
     "execution_count": 132,
     "metadata": {},
     "output_type": "execute_result"
    }
   ],
   "source": [
    "new_pred = (new_pred > 0.5)\n",
    "new_pred"
   ]
  },
  {
   "cell_type": "code",
   "execution_count": 133,
   "metadata": {
    "collapsed": true
   },
   "outputs": [],
   "source": [
    "# the customer doesnt leave the bank"
   ]
  }
 ],
 "metadata": {
  "kernelspec": {
   "display_name": "Python 3",
   "language": "python",
   "name": "python3"
  },
  "language_info": {
   "codemirror_mode": {
    "name": "ipython",
    "version": 3
   },
   "file_extension": ".py",
   "mimetype": "text/x-python",
   "name": "python",
   "nbconvert_exporter": "python",
   "pygments_lexer": "ipython3",
   "version": "3.6.3"
  }
 },
 "nbformat": 4,
 "nbformat_minor": 2
}
